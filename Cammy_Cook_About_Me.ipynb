{
  "nbformat": 4,
  "nbformat_minor": 0,
  "metadata": {
    "colab": {
      "provenance": [],
      "toc_visible": true,
      "authorship_tag": "ABX9TyOEIOlDFuvfHqQEZnQ4FTDq",
      "include_colab_link": true
    },
    "kernelspec": {
      "name": "python3",
      "display_name": "Python 3"
    },
    "language_info": {
      "name": "python"
    }
  },
  "cells": [
    {
      "cell_type": "markdown",
      "metadata": {
        "id": "view-in-github",
        "colab_type": "text"
      },
      "source": [
        "<a href=\"https://colab.research.google.com/github/CammyCook/About-Me/blob/main/Cammy_Cook_About_Me.ipynb\" target=\"_parent\"><img src=\"https://colab.research.google.com/assets/colab-badge.svg\" alt=\"Open In Colab\"/></a>"
      ]
    },
    {
      "cell_type": "markdown",
      "source": [
        "#**Personal Info**\n",
        "Cammy Cook\n",
        "\n",
        "\n",
        "[See/Hear Me Sing](https://youtu.be/alpjFLM_euw?si=x-0FK0W0MtJc5hHo)\n",
        "\n"
      ],
      "metadata": {
        "id": "DIxSyk2BS-l-"
      }
    },
    {
      "cell_type": "markdown",
      "source": [
        "##**Why DS Bootcamp?**\n",
        "\n",
        "This is a field that is only going to continue to explode and have implications for all areas of life.  I signed up for this course to force myself to understand the basic concepts so that I can understand how it applies to my personal and professional life.  Once I understand the basics, I will be able to educate myself and develop specific skills as they are needed.\n",
        "\n",
        "\n",
        "\n",
        "\n",
        "\n",
        "\n",
        "\n"
      ],
      "metadata": {
        "id": "EY41MKkAUHHY"
      }
    },
    {
      "cell_type": "markdown",
      "source": [
        "##**If you had to delete all but 3 apps from your smartphone, which ones would you keep?**\n",
        "\n",
        "I would keep:\n",
        "1. messages\n",
        "1. podcasts  \n",
        "1. safari"
      ],
      "metadata": {
        "id": "JItK6-nwX0YD"
      }
    },
    {
      "cell_type": "markdown",
      "source": [
        "##**What are your favorite podcasts?**\n",
        "1. [The Knowledge Project](https://fs.blog/knowledge-project-podcast/)\n",
        "1. [The Dishcast](https://andrewsullivan.substack.com/podcast)\n",
        "1. [You Have Permission](https://www.dankochwords.com/yhp.html)\n",
        "\n"
      ],
      "metadata": {
        "id": "yyWkpPV-X73y"
      }
    },
    {
      "cell_type": "markdown",
      "source": [
        "#Professional Work"
      ],
      "metadata": {
        "id": "y6iXdozkcBPd"
      }
    }
  ]
}